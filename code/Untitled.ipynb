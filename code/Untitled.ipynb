{
 "cells": [
  {
   "cell_type": "code",
   "execution_count": 69,
   "metadata": {},
   "outputs": [],
   "source": [
    "import pandas as pd\n",
    "import numpy as np\n",
    "import requests as rq\n",
    "import bs4 as bs4\n",
    "import re\n",
    "import json"
   ]
  },
  {
   "cell_type": "code",
   "execution_count": 82,
   "metadata": {},
   "outputs": [],
   "source": [
    "pages = list(range(1, 23))\n",
    "url = 'https://filmow.com/usuario/liviaandretti/avaliacoes/?pagina={page}'"
   ]
  },
  {
   "cell_type": "code",
   "execution_count": 71,
   "metadata": {},
   "outputs": [],
   "source": [
    "response = rq.get(url)\n",
    "parsed = bs4.BeautifulSoup(response.text)\n",
    "movies = parsed.find_all('li', attrs={'class':re.compile(r'movie_list_item')})"
   ]
  },
  {
   "cell_type": "code",
   "execution_count": 83,
   "metadata": {},
   "outputs": [],
   "source": [
    "with open('parsed_filmow.json', 'w+') as output:\n",
    "    data = dict()\n",
    "    for page in pages:\n",
    "        urll = url.format(page=page)\n",
    "        response = rq.get(urll)\n",
    "        parsed = bs4.BeautifulSoup(response.text)\n",
    "        movies = parsed.find_all('li', attrs={'class':re.compile(r'movie_list_item')})\n",
    "        \n",
    "        for movie in movies:\n",
    "            colname = \"_\".join(movie['class'])\n",
    "            data[colname] = movie.text.strip()\n",
    "\n",
    "            userRating = movie.find('span', attrs={'class': 'tip star-rating star-rating-small stars'})\n",
    "            data['userRate'] = userRating['title']\n",
    "\n",
    "            movieLink = movie.find('a')\n",
    "            data['movieLink'] = 'https://filmow.com' + movieLink['href']\n",
    "            data['movie_pk'] = movieLink['data-movie-pk']\n",
    "\n",
    "            output.write('{}\\n'.format(json.dumps(data)))"
   ]
  },
  {
   "cell_type": "code",
   "execution_count": 64,
   "metadata": {},
   "outputs": [
    {
     "data": {
      "text/plain": [
       "{'span2_movie_list_item': 'The Good Wife (7ª Temporada)\\n\\n\\n3.8\\n\\n\\n109',\n",
       " 'userRate': 'Nota: 2 estrelas',\n",
       " 'movieLink': 'https://filmow.com/the-good-wife-7a-temporada-t110558/',\n",
       " 'movie_pk': '110558'}"
      ]
     },
     "execution_count": 64,
     "metadata": {},
     "output_type": "execute_result"
    }
   ],
   "source": [
    "data"
   ]
  },
  {
   "cell_type": "code",
   "execution_count": 40,
   "metadata": {},
   "outputs": [],
   "source": [
    "c = movies[0].find_all('span', attrs={'class': 'tip star-rating star-rating-small stars'})"
   ]
  },
  {
   "cell_type": "code",
   "execution_count": 29,
   "metadata": {},
   "outputs": [],
   "source": [
    "amovie = movies[0].find_all('a')"
   ]
  },
  {
   "cell_type": "code",
   "execution_count": 55,
   "metadata": {},
   "outputs": [
    {
     "data": {
      "text/plain": [
       "[<span class=\"tip star-rating star-rating-small stars\" title=\"Nota: 5 estrelas\">\n",
       " <div class=\"stars empty\">\n",
       " <img src=\"https://ui.fstatic.com/static/images/star_rating_empty.png\"/>\n",
       " <img src=\"https://ui.fstatic.com/static/images/star_rating_empty.png\"/>\n",
       " <img src=\"https://ui.fstatic.com/static/images/star_rating_empty.png\"/>\n",
       " <img src=\"https://ui.fstatic.com/static/images/star_rating_empty.png\"/>\n",
       " <img src=\"https://ui.fstatic.com/static/images/star_rating_empty.png\"/>\n",
       " </div>\n",
       " <div class=\"average\" style=\"width: 100.0%;\">\n",
       " <div class=\"stars\">\n",
       " <img src=\"https://ui.fstatic.com/static/images/star_rating_full.png\"/>\n",
       " <img src=\"https://ui.fstatic.com/static/images/star_rating_full.png\"/>\n",
       " <img src=\"https://ui.fstatic.com/static/images/star_rating_full.png\"/>\n",
       " <img src=\"https://ui.fstatic.com/static/images/star_rating_full.png\"/>\n",
       " <img src=\"https://ui.fstatic.com/static/images/star_rating_full.png\"/>\n",
       " </div>\n",
       " </div>\n",
       " </span>]"
      ]
     },
     "execution_count": 55,
     "metadata": {},
     "output_type": "execute_result"
    }
   ],
   "source": [
    "c"
   ]
  },
  {
   "cell_type": "code",
   "execution_count": 74,
   "metadata": {},
   "outputs": [
    {
     "ename": "SyntaxError",
     "evalue": "invalid syntax (<ipython-input-74-0557494b9f8e>, line 1)",
     "output_type": "error",
     "traceback": [
      "\u001b[1;36m  File \u001b[1;32m\"<ipython-input-74-0557494b9f8e>\"\u001b[1;36m, line \u001b[1;32m1\u001b[0m\n\u001b[1;33m    pages = 1:22\u001b[0m\n\u001b[1;37m             ^\u001b[0m\n\u001b[1;31mSyntaxError\u001b[0m\u001b[1;31m:\u001b[0m invalid syntax\n"
     ]
    }
   ],
   "source": [
    "pages = 1:22"
   ]
  },
  {
   "cell_type": "code",
   "execution_count": 47,
   "metadata": {},
   "outputs": [
    {
     "data": {
      "text/plain": [
       "[<span class=\"tip star-rating star-rating-small stars\" title=\"Nota: 5 estrelas\">\n",
       " <div class=\"stars empty\">\n",
       " <img src=\"https://ui.fstatic.com/static/images/star_rating_empty.png\"/>\n",
       " <img src=\"https://ui.fstatic.com/static/images/star_rating_empty.png\"/>\n",
       " <img src=\"https://ui.fstatic.com/static/images/star_rating_empty.png\"/>\n",
       " <img src=\"https://ui.fstatic.com/static/images/star_rating_empty.png\"/>\n",
       " <img src=\"https://ui.fstatic.com/static/images/star_rating_empty.png\"/>\n",
       " </div>\n",
       " <div class=\"average\" style=\"width: 100.0%;\">\n",
       " <div class=\"stars\">\n",
       " <img src=\"https://ui.fstatic.com/static/images/star_rating_full.png\"/>\n",
       " <img src=\"https://ui.fstatic.com/static/images/star_rating_full.png\"/>\n",
       " <img src=\"https://ui.fstatic.com/static/images/star_rating_full.png\"/>\n",
       " <img src=\"https://ui.fstatic.com/static/images/star_rating_full.png\"/>\n",
       " <img src=\"https://ui.fstatic.com/static/images/star_rating_full.png\"/>\n",
       " </div>\n",
       " </div>\n",
       " </span>]"
      ]
     },
     "execution_count": 47,
     "metadata": {},
     "output_type": "execute_result"
    }
   ],
   "source": [
    "c"
   ]
  },
  {
   "cell_type": "code",
   "execution_count": 48,
   "metadata": {},
   "outputs": [
    {
     "data": {
      "text/plain": [
       "'Nota: 5 estrelas'"
      ]
     },
     "execution_count": 48,
     "metadata": {},
     "output_type": "execute_result"
    }
   ],
   "source": [
    "c[0]['title']"
   ]
  },
  {
   "cell_type": "code",
   "execution_count": null,
   "metadata": {},
   "outputs": [],
   "source": []
  }
 ],
 "metadata": {
  "kernelspec": {
   "display_name": "Python 3",
   "language": "python",
   "name": "python3"
  },
  "language_info": {
   "codemirror_mode": {
    "name": "ipython",
    "version": 3
   },
   "file_extension": ".py",
   "mimetype": "text/x-python",
   "name": "python",
   "nbconvert_exporter": "python",
   "pygments_lexer": "ipython3",
   "version": "3.7.4"
  }
 },
 "nbformat": 4,
 "nbformat_minor": 4
}
